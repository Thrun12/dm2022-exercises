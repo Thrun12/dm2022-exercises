{
 "cells": [
  {
   "cell_type": "markdown",
   "metadata": {},
   "source": [
    "# Week 1 - Normalization and data types\n",
    "\n",
    "This first week is going to be a warm-up week where we consider different statistical tools data types.\n",
    "\n",
    "Lets first import the libraries that we are going to need."
   ]
  },
  {
   "cell_type": "code",
   "execution_count": 1,
   "metadata": {},
   "outputs": [],
   "source": [
    "%matplotlib inline\n",
    "import matplotlib.pyplot as plt\n",
    "import numpy as np\n",
    "import scipy.stats as stats\n",
    "import math"
   ]
  },
  {
   "cell_type": "markdown",
   "metadata": {},
   "source": [
    "## Exercise 1: Sample statistics and normalization\n",
    "\n",
    "Let $X$ and $Y$ be two random variables, denoting age and weight, respectively.\n",
    "Consider a random sample of size $n=20$ from these two variables"
   ]
  },
  {
   "cell_type": "code",
   "execution_count": 2,
   "metadata": {},
   "outputs": [],
   "source": [
    "X = np.array([69, 74, 68, 70, 72, 67, 66, 70, 76, 68, 72, 79, 74, 67, 66, 71, 74, 75, 75, 76])\n",
    "Y = np.array([153, 175, 155, 135, 172, 150, 115, 137, 200, 130, 140, 265, 185, 112, 140, 150, 165, 185, 210, 220])"
   ]
  },
  {
   "cell_type": "markdown",
   "metadata": {},
   "source": [
    "**a)** Find the mean, median and mode for $X$  "
   ]
  },
  {
   "cell_type": "code",
   "execution_count": 3,
   "metadata": {},
   "outputs": [],
   "source": [
    "def compute_mean(X):\n",
    "    \"\"\"\n",
    "    Input: certain list of data   \n",
    "    Output: mean of this list   \n",
    "    Note: There also have an optional to build function prescind from Numpy\n",
    "    \"\"\"\n",
    "    return np.mean(X)\n",
    "\n",
    "def compute_median(X):\n",
    "    return np.median(X)\n",
    "\n",
    "def compute_counts(X):\n",
    "    counts = {}\n",
    "    for x in X:\n",
    "        if x in counts:\n",
    "            counts[x] += 1\n",
    "        else:\n",
    "            counts[x] = 1\n",
    "    return counts\n",
    "\n",
    "def compute_mode(X):\n",
    "    \"\"\" \n",
    "    Note: Could also build a counts dictionary for observing elements which may reuse when calculating pmf \n",
    "    \"\"\"\n",
    "    counts = compute_counts(X)\n",
    "    mode = {}\n",
    "    max_val = max(counts.values())\n",
    "    for x in counts:\n",
    "        if x == max_val:\n",
    "            mode[x] = counts[x]\n",
    "    return mode"
   ]
  },
  {
   "cell_type": "markdown",
   "metadata": {},
   "source": [
    "**b)** What is the variance for $Y$?  "
   ]
  },
  {
   "cell_type": "code",
   "execution_count": 4,
   "metadata": {},
   "outputs": [],
   "source": [
    "def compute_pmf(counts):\n",
    "    \"\"\"\n",
    "    Input: initial X or counts dictionary builded bufore\n",
    "    Note: Could reuse counts points \n",
    "    \"\"\"\n",
    "    total = sum(counts.values())\n",
    "    pmf = {}\n",
    "    #pmf = map(lambda x: counts[x] / total, counts)\n",
    "    for x in counts:\n",
    "        pmf[x] = counts[x] / total\n",
    "    return pmf\n",
    "\n",
    "def compute_ev(pmf):\n",
    "    \"\"\"\n",
    "    Input: pmf of X\n",
    "    \"\"\"\n",
    "    expected_value = sum(map(lambda x: x * pmf[x], pmf))\n",
    "    return expected_value\n",
    "\n",
    "def compute_variance(pmf, ev):  \n",
    "    \"\"\"\n",
    "    Input: pmf and  of expected value of X\n",
    "    \"\"\"\n",
    "    variance = sum(map(lambda x: (x - ev)**2 * pmf[x], pmf))\n",
    "    return variance\n"
   ]
  },
  {
   "cell_type": "code",
   "execution_count": 5,
   "metadata": {},
   "outputs": [
    {
     "name": "stdout",
     "output_type": "stream",
     "text": [
      "{153: 1, 175: 1, 155: 1, 135: 1, 172: 1, 150: 2, 115: 1, 137: 1, 200: 1, 130: 1, 140: 2, 265: 1, 185: 2, 112: 1, 165: 1, 210: 1, 220: 1}\n",
      "{153: 0.05, 175: 0.05, 155: 0.05, 135: 0.05, 172: 0.05, 150: 0.1, 115: 0.05, 137: 0.05, 200: 0.05, 130: 0.05, 140: 0.1, 265: 0.05, 185: 0.1, 112: 0.05, 165: 0.05, 210: 0.05, 220: 0.05}\n",
      "164.7\n",
      "1369.21\n"
     ]
    }
   ],
   "source": [
    "counts_y = compute_counts(Y)\n",
    "print(counts_y)\n",
    "pmf_y = compute_pmf(counts_y)\n",
    "print(pmf_y)\n",
    "ev_y = compute_ev(pmf_y)\n",
    "print(ev_y)\n",
    "var_y = compute_variance(pmf_y, ev_y)\n",
    "print(var_y)"
   ]
  },
  {
   "cell_type": "markdown",
   "metadata": {},
   "source": [
    "**c)** Plot the normal distribution for $X$. Consider if the data seems to fit a normal distribution.  "
   ]
  },
  {
   "cell_type": "code",
   "execution_count": 6,
   "metadata": {},
   "outputs": [
    {
     "data": {
      "image/png": "[encoded data removed]",
      "text/plain": [
       "<Figure size 432x288 with 1 Axes>"
      ]
     },
     "metadata": {
      "needs_background": "light"
     },
     "output_type": "display_data"
    }
   ],
   "source": [
    "counts_x = compute_counts(X)\n",
    "pmf_x = compute_pmf(counts_x)\n",
    "ev_x = compute_ev(pmf_x)\n",
    "var_x = compute_variance(pmf_x, ev_x)\n",
    "sigma_x = math.sqrt(var_x)\n",
    "x = np.linspace(ev_x - 3*sigma_x, ev_x + 3*sigma_x, 100)\n",
    "plt.plot(x, stats.norm.pdf(x, ev_x, sigma_x))\n",
    "plt.show()"
   ]
  },
  {
   "cell_type": "markdown",
   "metadata": {},
   "source": [
    "**d)** What is the probability of observing an age of 80 or higher?  "
   ]
  },
  {
   "cell_type": "code",
   "execution_count": null,
   "metadata": {},
   "outputs": [],
   "source": []
  },
  {
   "cell_type": "markdown",
   "metadata": {},
   "source": [
    "**e)** Find the 2-dimensional mean $\\hat \\mu$ and the covariance matrix $\\widehat \\Sigma$ for these two variables.  "
   ]
  },
  {
   "cell_type": "code",
   "execution_count": 7,
   "metadata": {},
   "outputs": [],
   "source": [
    "# TODO"
   ]
  },
  {
   "cell_type": "markdown",
   "metadata": {},
   "source": [
    "**f)** Normalize the data with _range normalization_ to the range $[0, 1]$  "
   ]
  },
  {
   "cell_type": "code",
   "execution_count": 8,
   "metadata": {},
   "outputs": [],
   "source": [
    "# TODO"
   ]
  },
  {
   "cell_type": "markdown",
   "metadata": {},
   "source": [
    "**g)** Normalize the data with _standard score normalization_, such that is has mean 0 and standard deviation 1.  "
   ]
  },
  {
   "cell_type": "code",
   "execution_count": 9,
   "metadata": {},
   "outputs": [],
   "source": [
    "# TODO"
   ]
  },
  {
   "cell_type": "markdown",
   "metadata": {},
   "source": [
    "## Exercise 2: Robustness\n",
    "Determine whether the following statements are true or false and explain why.\n",
    " - Mean is robust against outliers\n",
    " - Median is robust against outliers\n",
    " - Standard deviation is robust against outliers"
   ]
  },
  {
   "cell_type": "markdown",
   "metadata": {},
   "source": [
    "## Exercise 3: More on robustness\n",
    "Provide an informal definition of when a measure is robust. "
   ]
  },
  {
   "cell_type": "markdown",
   "metadata": {},
   "source": [
    "## Exercise 4: Independence analysis\n",
    "Please explain what the idea of independence analysis is using contingency tables; for which kind of data is this particularly relevant? "
   ]
  },
  {
   "cell_type": "markdown",
   "metadata": {},
   "source": [
    "## Exercise 5: Contingency table and $\\chi^2$ statistics\n",
    "In the table below,  assuming that $X_1$ is discretized into three bins, as follows: $[-2, -0.5]$, $[-0.5, 0.5]$, and $[0.5, 2]$.\n",
    "\n",
    "![Table 3.5](graphics/3.5.png)\n",
    "\n",
    "Answer the following questions\n",
    "\n",
    "**a)** Construct the contingency table between the discretized $X_1$ and $X_2$ attributes . Include the marginal counts.  \n",
    "**b)** Compute the $\\chi^2$ statistic between them.  \n",
    "**c)** Determine whether they are dependent or not at the 5% significance level. Use the $\\chi^2$ critical values from Table 3.10.\n",
    "\n",
    "![Table 3.11](graphics/3.11.png)"
   ]
  },
  {
   "cell_type": "markdown",
   "metadata": {},
   "source": [
    "## Exercise 6: Working with Metrics\n",
    "\n",
    "Consider the following situation: \n",
    "\n",
    "We know some distances between data points: $d(p_1,p_2)=1$, $d(p_1,p_3)=2$, $d(p_3, p_4)=1$. \n",
    "We also know that $d$ is a metric. \n",
    "\n",
    "1. What do we know about the remaining distances? \n",
    "2. Do we need to compute further distances if we want to find the two points that are most similar to $p_1$? \n",
    "3. Can $p_4$ be closer to $p_2$ than $p_3$ is to $p_2$? "
   ]
  },
  {
   "cell_type": "markdown",
   "metadata": {},
   "source": [
    "# Optional Exercises\n",
    "\n",
    "## Exercise 7: Mean absolute deviation \n",
    "Define a measure of deviation called _mean absolute deviation_ for a random variable $X$ as follows:\n",
    "\n",
    "$$\n",
    "\\frac{1}{n} \\sum_{i=1}^n |x_i - \\mu|\n",
    "$$\n",
    "\n",
    "Is this measure robust? Why or why not?"
   ]
  },
  {
   "cell_type": "markdown",
   "metadata": {},
   "source": [
    "## Exercise 8: Correlation\n",
    "\n",
    "Consider the table below. Assume that both the attributes $X$ and $Y$ are numeric, and the\n",
    "table represents the entire population. If we know that the correlation between $X$\n",
    "and $Y$ is zero, what can you infer about the values of $Y$? (Find a relationship between a, b and c)\n",
    "\n",
    "|$X$ | $Y$ |\n",
    "|:---:|:---:|\n",
    "|$1$|$a$|\n",
    "|$0$|$b$|\n",
    "|$1$|$c$|\n",
    "|$0$|$a$|\n",
    "|$0$|$c$|\n",
    "|$1$|$b$|"
   ]
  },
  {
   "cell_type": "markdown",
   "metadata": {},
   "source": [
    "# Exercise 9: 3-way contingency table\n",
    "\n",
    "Consider the 3-way contingency table for attributes $X$,$Y$,$Z$ shown in the table below.\n",
    "Compute the $\\chi^2$ metric for the correlation between $Y$ and $Z$. Are they dependent\n",
    "or independent at the 95% confidence level? See Table 3.10 above for $\\chi^2$ values.\n",
    "\n",
    "![Table 3.9](graphics/3.9.png)"
   ]
  },
  {
   "cell_type": "markdown",
   "metadata": {},
   "source": [
    "# Exercise 10: Mixed data\n",
    "\n",
    "Consider the \"mixed\" data given in the table below. Here $X_1$ is a numeric attribute and\n",
    "$X_2$ is a categorical one. Assume that the domain of $X_2$ is given as $dom(X_2) = \\{a, b\\}$.\n",
    "Answer the following questions.\n",
    "**a)** What is the mean vector for this dataset?  \n",
    "**b)** What is the covariance matrix?  \n",
    "\n",
    "![Table 3.5](graphics/3.5.png)\n",
    "\n"
   ]
  }
 ],
 "metadata": {
  "kernelspec": {
   "display_name": "Python 3",
   "language": "python",
   "name": "python3"
  },
  "language_info": {
   "codemirror_mode": {
    "name": "ipython",
    "version": 3
   },
   "file_extension": ".py",
   "mimetype": "text/x-python",
   "name": "python",
   "nbconvert_exporter": "python",
   "pygments_lexer": "ipython3",
   "version": "3.9.6"
  }
 },
 "nbformat": 4,
 "nbformat_minor": 4
}
