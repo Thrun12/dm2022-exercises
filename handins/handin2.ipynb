{
 "cells": [
  {
   "cell_type": "markdown",
   "id": "indie-exhibition",
   "metadata": {},
   "source": [
    "# Data Mining - Handin 2 - Graph mining\n",
    "\n",
    "Welcome to the handin on clustering algorithms and outlier detection. \n",
    "This handin corresponds to the topics in Week 10--15 in the course.\n",
    "\n",
    "The handin IS \n",
    "* done individually\n",
    "* worth 10% of the grade\n",
    "\n",
    "For the handin, you will prepare a report in PDF format, by exporting the Jupyter notebook. \n",
    "Please submit\n",
    "1. The jupyter notebook file with your answers\n",
    "2. The PDF obtained by exporting the jupyter notebook\n",
    "\n",
    "Submit both files on Blackboard no later than **April 19th kl. 8.59**.\n",
    "\n",
    "**The grading system**: Tasks are assigned a number of points based on the difficulty and time to solve it. The sum of\n",
    "the number of points is **100**. For the maximum grade you need to get at least _80 points_. The minimum grade (02 in the Danish scale)\n",
    "requires **at least** 28 points, with at least 8 points on of the first three Parts (Part 1,2,3) and 4 points in the last part (Part 4).\n",
    "Good luck!\n",
    "\n",
    "**The exercise types**: There are three different types of exercises\n",
    "1. <span style='color: green'>**\\[Compute by hand\\]**</span> means that you should provide NO code, but show the main steps to reach the result (not all). \n",
    "2. <span style='color: green'>**\\[Motivate\\]**</span> means to provide a short answer of 1-2 lines indicating the main reasoning, e.g., the PageRank of a complete graph is 1/n in all nodes as all nodes are symmetric and are connected one another.\n",
    "3. <span style='color: green'>**\\[Describe\\]**</span> means to provide a potentially longer answer of 1-5 lines indicating the analysis of the data and the results. \n",
    "4. <span style='color: green'>**\\[Prove\\]**</span> means to provide a formal argument and NO code. \n",
    "5. <span style='color: green'>**\\[Implement\\]**</span> means to provide an implementation. Unless otherwise specified, you are allowed to use helper functions (e.g., ```np.mean```, ```itertools.combinations```, and so on). However, if the task is to implement an algorithm, by no means a call to a library that implements the same algorithm will be deemed as sufficient! "
   ]
  },
  {
   "cell_type": "code",
   "execution_count": null,
   "id": "transsexual-humanitarian",
   "metadata": {},
   "outputs": [],
   "source": [
    "### BEGIN IMPORTS - DO NOT TOUCH!\n",
    "import sys\n",
    "sys.path.append('..')\n",
    "\n",
    "import random\n",
    "import scipy.io as sio\n",
    "import time\n",
    "\n",
    "import networkx as nx\n",
    "import numpy as np\n",
    "%matplotlib inline\n",
    "import matplotlib.pyplot as plt\n",
    "\n",
    "import csv\n",
    "from itertools import count\n",
    "\n",
    "\n",
    "import torch\n",
    "import torch.optim\n",
    "import torch.nn as nn\n",
    "import torch.nn.functional as F\n",
    "import torchvision\n",
    "import torchvision.transforms as transforms\n",
    "### END IMPORTS - DO NOT TOUCH!"
   ]
  },
  {
   "cell_type": "code",
   "execution_count": null,
   "id": "banned-audio",
   "metadata": {},
   "outputs": [],
   "source": [
    "from utilities.load_data import load_mnist\n",
    "import utilities.email as email\n",
    "import utilities.mnist as mnist"
   ]
  },
  {
   "cell_type": "markdown",
   "id": "employed-apache",
   "metadata": {},
   "source": [
    "# Part 1: Theoretical questions\n",
    "We will start out with theory questions. \n",
    "These questions are theoretical; as such, they **should be answered without implementation**. \n",
    "In particular, you are allowed to verify your answer experimentally, but the motivation you provide should be only in text and theoretically grounded. "
   ]
  },
  {
   "cell_type": "markdown",
   "id": "steady-vietnamese",
   "metadata": {},
   "source": [
    "## Task 1.1 Random walks and PageRank\n",
    " \n",
    "Recall that the PageRank is defined as $\\mathbf{r} = \\alpha \\mathbf{Mr} + (1-\\alpha)\\mathbf{p}$, where $\\mathbf{r}$ is the PageRank vector, $\\alpha$ is the restart probability, $\\mathbf{M} = A\\Delta^{-1}$, and $\\mathbf{p}$ is the restart (or personalization) vector. \n"
   ]
  },
  {
   "cell_type": "markdown",
   "id": "electric-praise",
   "metadata": {},
   "source": [
    "### Task 1.1.1 (4 points)\n",
    "What is the PageRank of a complete **bipartite** graph with 3 nodes on one side and 4 on the other side and $\\alpha=1$? \n",
    "\n",
    "<span style='color: green'>**\\[Motivate\\]**</span> your answer without showing the exact computation. "
   ]
  },
  {
   "cell_type": "markdown",
   "id": "advisory-noise",
   "metadata": {},
   "source": [
    "*******************\n",
    "<span style=\"color:red\">**YOUR ANSWER HERE**</span>\n",
    "******************"
   ]
  },
  {
   "cell_type": "markdown",
   "id": "entertaining-sunset",
   "metadata": {},
   "source": [
    "### Task 1.1.2 (4 points)\n",
    "Look at this graph below (run the code)"
   ]
  },
  {
   "cell_type": "code",
   "execution_count": null,
   "id": "greatest-memorial",
   "metadata": {},
   "outputs": [],
   "source": [
    "G = nx.Graph()\n",
    "G.add_edges_from([(1,2),(2,3), (2,4), (3,4)])\n",
    "nx.draw(G, with_labels=True)"
   ]
  },
  {
   "cell_type": "markdown",
   "id": "colonial-maryland",
   "metadata": {},
   "source": [
    "It is a complete subgraph (i.e a clique) with a dangling node (number 1 in the image).\n",
    "\n",
    "<span style='color: green'>**\\[Compute by hand\\]**</span> the PageRank (i.e. $\\alpha=1$) for the graph. If you use the Power Iteration method shows only the first step and the last (i.e., convergence). \n",
    "\n",
    "**Hint:** If you solve the linear system note that node 3 and node 4 are symmetric, hence the PageRank for those nodes is ..."
   ]
  },
  {
   "cell_type": "markdown",
   "id": "separated-journalist",
   "metadata": {},
   "source": [
    "*******************\n",
    "<span style=\"color:red\">**YOUR ANSWER HERE**</span>\n",
    "******************"
   ]
  },
  {
   "cell_type": "markdown",
   "id": "solid-causing",
   "metadata": {},
   "source": [
    "### Task 1.1.3 (2 points)\n",
    "<span style='color: green'>**\\[Motivate\\]**</span> what happens to the PageRank when you increase by 1 node the size of the clique in the graph in **1.1.2**. Isthe PageRank of the nodes __not__ connected with the isolated node higher or lower than before? Is the PageRank of the isolated node higher or lower? \n",
    "_You do not need to show any computation but to reason on why and if the value changes with respect to the Task 1.1.2._"
   ]
  },
  {
   "cell_type": "markdown",
   "id": "physical-fusion",
   "metadata": {},
   "source": [
    "*******************\n",
    "<span style=\"color:red\">**YOUR ANSWER HERE**</span>\n",
    "******************"
   ]
  },
  {
   "cell_type": "markdown",
   "id": "floating-papua",
   "metadata": {},
   "source": [
    "### Task 1.1.4 (5 points)\n",
    "Assume now the graph in **1.1.2** has $n$ nodes (where $n$ is a variable) and a clique with $n-1$ nodes. \n",
    "What is the PageRank of  the $n-2$ nodes in the clique that are not connected to the isolated node? Provide a formula which depends on $n$.\n",
    "\n",
    "To solve the linear system you can use Wolfram Alpha and provide directly the answer (use the function ```solve eq1, eq2 for x,y``` to solve the system). It is easy to verify if you are right as the solution with $n=4$ is exactly the PageRank of Task 1.1.2.\n",
    "\n",
    "**Hint**: If you have solved the system before you will notice that you do not need $n$ equations as you only have 3 types of nodes! "
   ]
  },
  {
   "cell_type": "markdown",
   "id": "underlying-classification",
   "metadata": {},
   "source": [
    "*******************\n",
    "<span style=\"color:red\">**YOUR ANSWER HERE**</span>\n",
    "******************"
   ]
  },
  {
   "cell_type": "markdown",
   "id": "realistic-wholesale",
   "metadata": {},
   "source": [
    "### Task 1.1.5 (2 points)\n",
    "\n",
    "Assume you have embedded the graph in **1.1.2** with a __Linear Embedding__ using unormalized Laplacian matrix of the graph as the similarity matrix. How do you expect the embeddings to be if the embedding dimension is $d = 1$? \n",
    "\n",
    "* [ ] Nodes 1, 2, 3, 4 will be placed in the corners of a hypercube\n",
    "* [ ] Nodes 2,3 will have the same embedding while 1,4 will be far from each other.\n",
    "* [ ] Nodes 3,4 will have very close embeddings.\n",
    "* [ ] Nodes 3,4 will be very far apart."
   ]
  },
  {
   "cell_type": "markdown",
   "id": "thick-scratch",
   "metadata": {},
   "source": [
    "*******************\n",
    "<span style=\"color:red\">**YOUR ANSWER HERE**</span>\n",
    "******************"
   ]
  },
  {
   "cell_type": "markdown",
   "id": "split-intention",
   "metadata": {},
   "source": [
    "## Task 1.2: Spectral Properties of the Graph Laplacian\n",
    " <span style='color: green'>**\\[Prove\\]**</span> **the following properties:**\n",
    "Note that this an exercise from the TA session on \"Spectral Graph Theory\". You will also be given points for each of the properties that you prove, rather than points for the exercise as a whole."
   ]
  },
  {
   "cell_type": "markdown",
   "id": "separate-horse",
   "metadata": {},
   "source": [
    "### Task 1.2.1 (2 points)\n",
    "$\\lambda_0 = 0$ for all graphs\n",
    "*******************\n",
    "<span style=\"color:red\">**YOUR ANSWER HERE**</span>\n",
    "******************"
   ]
  },
  {
   "cell_type": "markdown",
   "id": "monthly-alaska",
   "metadata": {},
   "source": [
    "### Task 1.2.2 (2 points)\n",
    "\n",
    "For all the graphs $\\sum_{i=0}^{n-1} \\lambda_i = n$\n",
    "*******************\n",
    "<span style=\"color:red\">**YOUR ANSWER HERE**</span>\n",
    "******************"
   ]
  },
  {
   "cell_type": "markdown",
   "id": "corrected-republic",
   "metadata": {},
   "source": [
    "### Task 1.2.3 (2 points)\n",
    "\n",
    "For all the graphs, $\\lambda_1 \\leq \\frac{n}{n-1}$\n",
    "*******************\n",
    "<span style=\"color:red\">**YOUR ANSWER HERE**</span>\n",
    "******************"
   ]
  },
  {
   "cell_type": "markdown",
   "id": "sorted-silence",
   "metadata": {},
   "source": [
    "### Task 1.2.4 (2 points)\n",
    "For all the graphs, $\\lambda_{n-1} \\geq \\frac{n}{n-1}$\n",
    "*******************\n",
    "<span style=\"color:red\">**YOUR ANSWER HERE**</span>\n",
    "******************"
   ]
  },
  {
   "cell_type": "markdown",
   "id": "vulnerable-ontario",
   "metadata": {},
   "source": [
    "### Task 1.2.5 (3 points)\n",
    "1. For the complete graph, $\\lambda_1, \\dots, \\lambda_{n-1} = \\frac{n}{n-1}$\n",
    "*******************\n",
    "<span style=\"color:red\">**YOUR ANSWER HERE**</span>\n",
    "******************"
   ]
  },
  {
   "cell_type": "markdown",
   "id": "numerous-table",
   "metadata": {},
   "source": [
    "# Part 2: Graphs and Spectral clustering\n",
    "In this part, you will experiment and reflect on spectral clustering as a technique for partitioning a graph. "
   ]
  },
  {
   "cell_type": "markdown",
   "id": "cardiac-firmware",
   "metadata": {},
   "source": [
    "## Task 2.1 $\\varepsilon$-neighbourhood graph\n",
    "### Task 2.1.1 (4 points)\n",
    "\n",
    "Take the MNIST dataset by running the code below. \n",
    "\n",
    "<span style='color: green'>**\\[Implement\\]**</span> the $\\varepsilon$-neighborhood graph, using Eucledian (L2) distance. \n",
    "\n",
    "**Note**: Be sure that your constructed graphs does not contain loop edges (edges from i to i for some node i)"
   ]
  },
  {
   "cell_type": "code",
   "execution_count": null,
   "id": "chinese-commerce",
   "metadata": {},
   "outputs": [],
   "source": [
    "X_reduced = mnist.X_reduced\n",
    "y_reduced = mnist.y_reduced\n",
    "\n",
    "X_plot, y_plot, *_ = load_mnist()\n",
    "fig, ax = plt.subplots(2,6, figsize=(10, 3))\n",
    "for i in range(2): \n",
    "    for j in range(6):\n",
    "        ax[i, j].imshow(X_plot[i*4 + j])\n",
    "        ax[i, j].set_title(\"Label: %d\" % y_plot[i*4 + j])\n",
    "plt.tight_layout()"
   ]
  },
  {
   "cell_type": "code",
   "execution_count": null,
   "id": "swiss-scheme",
   "metadata": {},
   "outputs": [],
   "source": [
    "# You are allowed to use sklearn if you wish. \n",
    "# Be sure that your constructed graphs does not contain loop edges (edges from i to i for some node i)\n",
    "from sklearn.neighbors import NearestNeighbors \n",
    "\n",
    "def nn_graph(data, eps, remove_self=True, directed=False):\n",
    "    ## YOUR CODE HERE\n",
    "    \n",
    "    ## YOUR CODE HERE\n",
    "    return G"
   ]
  },
  {
   "cell_type": "markdown",
   "id": "prostate-appreciation",
   "metadata": {},
   "source": [
    "### Task 2.1.2 (2 points)\n",
    "\n",
    "Try with different epsilons (select a small set of epsilons, e.g., 5-10 values) and plot the graphs. \n",
    "\n",
    "<span style='color: green'>**\\[Motivate\\]**</span> what you observe as epsilon increases. "
   ]
  },
  {
   "cell_type": "code",
   "execution_count": null,
   "id": "suited-namibia",
   "metadata": {},
   "outputs": [],
   "source": [
    "### Plot a few graphs with different epsilon values\n",
    "eps_values = []\n",
    "### \n",
    "\n",
    "for eps in eps_values: \n",
    "    G = nn_graph(X_reduced, eps)\n",
    "    pos=nx.spring_layout(G)\n",
    "\n",
    "    fig=plt.figure(figsize=(20,10))\n",
    "    ax=plt.subplot(121)\n",
    "    mnist.plot_neighborhood_graph(G, pos, ax)\n",
    "\n",
    "    ax=plt.subplot(122)\n",
    "    mnist.plot_img_neighborhood_graph(G, X_reduced, fig, pos, ax)"
   ]
  },
  {
   "cell_type": "markdown",
   "id": "copyrighted-bhutan",
   "metadata": {},
   "source": [
    "*******************\n",
    "<span style=\"color:red\">**YOUR ANSWER HERE**</span>\n",
    "******************"
   ]
  },
  {
   "cell_type": "markdown",
   "id": "prescribed-domain",
   "metadata": {},
   "source": [
    "### Important for the rest of the exercise\n",
    "\n",
    "Fix the $\\varepsilon = 20$ in the rest of the tasks in this part. Use the variables (X_reduced, y_reduced). Print the final graph using the code below. "
   ]
  },
  {
   "cell_type": "code",
   "execution_count": null,
   "id": "limiting-accuracy",
   "metadata": {},
   "outputs": [],
   "source": [
    "eps = 20\n",
    "G = nn_graph(X_reduced, eps)\n",
    "pos=nx.spring_layout(G)\n",
    "\n",
    "fig=plt.figure(figsize=(20,10))\n",
    "ax=plt.subplot(121)\n",
    "mnist.plot_neighborhood_graph(G, pos, ax)\n",
    "\n",
    "ax=plt.subplot(122)\n",
    "mnist.plot_img_neighborhood_graph(G, X_reduced, fig, pos, ax)"
   ]
  },
  {
   "cell_type": "markdown",
   "id": "collected-creator",
   "metadata": {},
   "source": [
    "### Task 2.1.3 (2 points)\n",
    "Assign to each edge in the $\\varepsilon$-neighborhood graph a weight\n",
    "\n",
    "$$W_{i j}=e^{-\\frac{\\left\\|\\mathbf{x}_{i}-\\mathbf{x}_{j}\\right\\|^{2}}{t}}$$\n",
    "\n",
    "<span style='color: green'>**\\[Implement\\]**</span> the function ```weighted_nn_graph``` below that returns the weighted graph given the data matrix in input and the values eps and t, where t is the parameter of the equation above. "
   ]
  },
  {
   "cell_type": "code",
   "execution_count": null,
   "id": "appointed-adrian",
   "metadata": {},
   "outputs": [],
   "source": [
    "def weighted_nn_graph(data, eps=20, t=0.1):\n",
    "    ## YOUR CODE HERE\n",
    "    \n",
    "    ## YOUR CODE HERE\n",
    "    return G"
   ]
  },
  {
   "cell_type": "markdown",
   "id": "statistical-america",
   "metadata": {},
   "source": [
    "### Task 2.1.4 (2 points)\n",
    "\n",
    "We now vary $t \\in \\{100000, 1000, 100, 10, 0.1, 0.0001\\}$. Plot the weights as a histogram in order to analyse the results usin the provided code below as a way to do that.\n",
    "\n",
    "What happens when $t$ is very small, close to $0$, i.e., $t \\rightarrow 0$? What happens when $t$ is very large?\n",
    "Is the behaviour with $t = 0$ expected?\n",
    "\n",
    "<span style='color: green'>**\\[Motivate\\]**</span> your answer reasoning on the formula. "
   ]
  },
  {
   "cell_type": "code",
   "execution_count": null,
   "id": "simple-franklin",
   "metadata": {},
   "outputs": [],
   "source": [
    "ts = [100000, 1000, 100, 10, 0.1, 0.0001]\n",
    "fig, ax = plt.subplots(2,3, figsize=(20, 10))\n",
    "row = 0\n",
    "\n",
    "for i, t in enumerate(ts):\n",
    "    G = weighted_nn_graph(X_reduced, eps=20, t=t)\n",
    "    ys = []\n",
    "    \n",
    "    if i == 3: \n",
    "        row += 1\n",
    "    col = i % 3\n",
    "    \n",
    "    for i, d in enumerate(G.edges.data()):\n",
    "        ys.append(d[2]['weight'])\n",
    "    plt.hist(ys, bins=100)\n",
    "    ax[row, col].hist(ys, bins=100)\n",
    "    ax[row, col].set_title(\"t: %d\" % t)\n",
    "    \n",
    "plt.tight_layout()"
   ]
  },
  {
   "cell_type": "markdown",
   "id": "convertible-cheese",
   "metadata": {},
   "source": [
    "*******************\n",
    "<span style=\"color:red\">**YOUR ANSWER HERE**</span>\n",
    "******************"
   ]
  },
  {
   "cell_type": "markdown",
   "id": "governmental-waste",
   "metadata": {},
   "source": [
    "## Task 2.2: Spectral clustering\n",
    "\n",
    "We will now look at spectral clustering and its properties. For this Task we will use a subgraph from [Email-EU-Core](https://snap.stanford.edu/data/email-Eu-core.html).\n",
    "Run the code below to load the graph and visualize the communities. "
   ]
  },
  {
   "cell_type": "code",
   "execution_count": null,
   "id": "expressed-newport",
   "metadata": {},
   "outputs": [],
   "source": [
    "G = email.S_undir\n",
    "plt.figure(1,figsize=(15,5))\n",
    "pos = nx.spring_layout(G)\n",
    "ec = nx.draw_networkx_edges(G, pos, alpha=0.2)\n",
    "nc = nx.draw_networkx_nodes(G, pos, nodelist=G.nodes(), node_color=email.colors, node_size=100, cmap=plt.cm.jet)\n",
    "plt.axis('off')\n",
    "plt.show()"
   ]
  },
  {
   "cell_type": "code",
   "execution_count": null,
   "id": "realistic-chuck",
   "metadata": {},
   "outputs": [],
   "source": [
    "def graph_eig(L): \n",
    "    \"\"\"\n",
    "        Takes a graph Laplacian and returns sorted the eigenvalues and vectors.\n",
    "    \"\"\"\n",
    "    lambdas, eigenvectors = np.linalg.eig(L)\n",
    "    lambdas = np.real(lambdas)\n",
    "    eigenvectors = np.real(eigenvectors)\n",
    "    \n",
    "    order = np.argsort(lambdas)\n",
    "    lambdas = lambdas[order]\n",
    "    eigenvectors = eigenvectors[:, order]\n",
    "    \n",
    "    return lambdas, eigenvectors\n",
    "\n",
    "def plot_eigvec(G, vectors_from_eig):\n",
    "    pos = nx.spring_layout(G)\n",
    "    fig, ax = plt.subplots(3, 2, figsize=(20, 15))\n",
    "    ek_ = np.around(vectors_from_eig, decimals=1)\n",
    "    for k in np.arange(0,6): \n",
    "        i, j = k % 3, k % 2\n",
    "        ncs = ek_[:,k]\n",
    "        nx.draw(G, ax=ax[i, j], cmap=plt.get_cmap('RdBu'), node_color=ncs, pos=pos, with_labels=True)\n",
    "        ax[i, j].set_title(\"k = %i\" % k)"
   ]
  },
  {
   "cell_type": "markdown",
   "id": "animated-footwear",
   "metadata": {},
   "source": [
    "### Task 2.2.1 (2 points)\n",
    "Compute the eigenvectors and eigenvalues (using the provided function) of the Normalized Laplacian and the Random Walk Laplacian of the graph $G$. Plot the spectrum (eigenvalues).\n",
    "\n",
    "<span style='color: green'>**\\[Implement\\]**</span> the code to compute the different Laplacians. "
   ]
  },
  {
   "cell_type": "code",
   "execution_count": null,
   "id": "legal-paragraph",
   "metadata": {},
   "outputs": [],
   "source": [
    "L_norm = None\n",
    "L_rw = None\n",
    "## YOUR CODE HERE\n",
    "\n",
    "## YOUR CODE HERE\n",
    "eigval_norm, eigvec_norm = graph_eig(L_norm)\n",
    "eigval_rw, eigvec_rw = graph_eig(L_rw)\n",
    "\n",
    "plt.figure(0)\n",
    "plt.plot(eigval_norm, 'b-o', label='Spectrum of Normalized Laplacian', )\n",
    "plt.legend()\n",
    "plt.figure(1)\n",
    "plt.plot(eigval_rw, 'b-o', label='Spectrum of the Random Walk Laplacian')\n",
    "plt.legend()"
   ]
  },
  {
   "cell_type": "markdown",
   "id": "worthy-hobby",
   "metadata": {},
   "source": [
    "### Task 2.2.2 (4 points)\n",
    "<span style='color: green'>**\\[Implement\\]**</span> the function ```spect_cluster``` that returns a vector ```y_clust``` in which each entry y_clust\\[i\\] represents the community assigned to node $i$. The method should be able to handle both the Normalized Laplacian, and the Random Walk Laplacian. You are allowed to use your implementation from the weekly exercises and ```sklearn.cluster.k_means``` for k-means clustering. "
   ]
  },
  {
   "cell_type": "code",
   "execution_count": null,
   "id": "artistic-mississippi",
   "metadata": {},
   "outputs": [],
   "source": [
    "from sklearn.cluster import k_means\n",
    "def spect_cluster(G, eig_type=\"normal\", k=5, d=5):\n",
    "    ## YOUR CODE HERE\n",
    "    \n",
    "    ## YOUR CODE HERE\n",
    "    return y_clust"
   ]
  },
  {
   "cell_type": "markdown",
   "id": "surprising-romance",
   "metadata": {},
   "source": [
    "Use the code below to visualize the communities. "
   ]
  },
  {
   "cell_type": "code",
   "execution_count": null,
   "id": "sorted-fleet",
   "metadata": {},
   "outputs": [],
   "source": [
    "pos = nx.spring_layout(G)\n",
    "def plot_graph(G, clusters):\n",
    "    plt.figure(1,figsize=(30,15))\n",
    "    nodes = G.nodes()\n",
    "    ec = nx.draw_networkx_edges(G, pos, alpha=0.2)\n",
    "    nc = nx.draw_networkx_nodes(G, pos, nodelist=nodes, node_color=clusters, node_size=100, cmap=plt.cm.jet)\n",
    "\n",
    "    plt.axis('off')\n",
    "    plt.show()"
   ]
  },
  {
   "cell_type": "markdown",
   "id": "focused-encyclopedia",
   "metadata": {},
   "source": [
    "Run spectral clustering with k=6 and visualize the communities. "
   ]
  },
  {
   "cell_type": "code",
   "execution_count": null,
   "id": "unknown-gnome",
   "metadata": {},
   "outputs": [],
   "source": [
    "### YOUR CODE HERE"
   ]
  },
  {
   "cell_type": "markdown",
   "id": "comparable-permission",
   "metadata": {},
   "source": [
    "### Task 2.2.3 (1 point)\n",
    "\n",
    "Finally, use your implementation of spectral clustering with different Laplacians and different values of $k \\in \\{2,7\\}$ and plot the results using the helper function ```plot_graph```. \n",
    "\n",
    "<span style='color: green'>**\\[Describe\\]**</span> the results you obtain. Especially, what is the difference between the Random Walk and the Normalized Laplacians, if any? How do you explain such differences? Can you detect easily all the ground truth communities? Are some communities not detected? Why do you think that happens? "
   ]
  },
  {
   "cell_type": "code",
   "execution_count": null,
   "id": "twenty-singing",
   "metadata": {},
   "outputs": [],
   "source": [
    "for method in ['normal', 'random']: \n",
    "    for k in np.arange(2,8): \n",
    "        your_clusters = spect_cluster(G,eig_type=method, k=k)\n",
    "        plot_graph(G, your_clusters)"
   ]
  },
  {
   "cell_type": "markdown",
   "id": "cathedral-application",
   "metadata": {},
   "source": [
    "*******************\n",
    "<span style=\"color:red\">**YOUR ANSWER HERE**</span>\n",
    "******************"
   ]
  },
  {
   "cell_type": "markdown",
   "id": "continuing-colorado",
   "metadata": {},
   "source": [
    "### Task 2.2.4 (4 points)\n",
    "<span style='color: green'>**\\[Implement\\]**</span> the modularity. Recall that the definition of modularity for a set of communities $C$ is\n",
    "$$ \n",
    "Q=\\frac{1}{2 m} \\sum_{c \\in C} \\sum_{i \\in c} \\sum_{j \\in c}\\left(A_{i j}-\\frac{d_{i} d_{j}}{2 m}\\right) \\qquad \\qquad (1) \n",
    "$$\n",
    "where $A$ is the adjacency matrix, and $d_i$ is the degree of node $i$\n",
    "\n",
    "**Note**: Use ```plot_graph``` function in order to see for yourself if maximising modularity leads a better clustering. If you did not succeed with the previous Task you are allowed to use [Scikit Learn Spectral Clustering](https://scikit-learn.org/stable/modules/generated/sklearn.cluster.SpectralClustering.html)"
   ]
  },
  {
   "cell_type": "code",
   "execution_count": null,
   "id": "collected-damages",
   "metadata": {},
   "outputs": [],
   "source": [
    "def modularity(G, clustering):\n",
    "    modularity = 0\n",
    "    ## YOUR CODE HERE\n",
    "    \n",
    "    ## YOUR CODE HERE\n",
    "    return modularity\n",
    "\n",
    "\n",
    "# You may want to use plt.plot to plot the modularity for different values of k\n",
    "plt.plot(ks, mods)"
   ]
  },
  {
   "cell_type": "markdown",
   "id": "signed-dietary",
   "metadata": {},
   "source": [
    "### Task 2.2.5 (2 point)\n",
    "\n",
    "Compute the modularity of your Spectral Clustering Implementation for different values of $k$. \n",
    "\n",
    "<span style='color: green'>**\\[Motivate\\]**</span> which value maximises the modularity. Is $k=6$ maximizing the modularity? If yes, is this consistent with the ground-truth? If not, is it because of an issue with modularity or with spectral clustering? "
   ]
  },
  {
   "cell_type": "code",
   "execution_count": null,
   "id": "coral-prevention",
   "metadata": {},
   "outputs": [],
   "source": [
    "mods = []\n",
    "ks = [1, 2, 3, 4, 5, 6, 7, 8, 9, 10, 11]\n",
    "for k in ks:\n",
    "    clusters = spect_cluster(G, k=k) ### NOTE: If you do not use your implementation substitute with a call to the sklearn one. \n",
    "    mods.append(modularity(G, clusters))\n",
    "\n",
    "# You may want to use plt.plot to plot the modularity for different values of k\n",
    "plt.plot(ks, mods)"
   ]
  },
  {
   "cell_type": "markdown",
   "id": "dominant-cabinet",
   "metadata": {},
   "source": [
    "*******************\n",
    "<span style=\"color:red\">**YOUR ANSWER HERE**</span>\n",
    "******************"
   ]
  },
  {
   "cell_type": "markdown",
   "id": "substantial-chemistry",
   "metadata": {},
   "source": [
    "### Task 2.2.6 (2 points)\n",
    "\n",
    "There seems to be a relationship between graph embeddings and spectral clustering, can you guess that? _Hint_: Think to the eigenvectors of the graph's Laplacians."
   ]
  },
  {
   "cell_type": "markdown",
   "id": "oriented-protection",
   "metadata": {},
   "source": [
    "* [ ] If the embeddings are linear and the similarity is the Laplacian, the embeddings we obtain minimizing the L_2 norm are equivalent to the eigenvectors of the Laplacian. \n",
    "* [ ] If the embeddings are random-walk-based embeddings, the eigenvectors of the Ranom Walk Laplacian are related to the embeddings obtained by such methods. \n",
    "* [ ] The relationship is just apparent. \n",
    "* [ ] If the embeddings are linear and the similarity is the Adjacency matrix, the eigenvectors of the Laplacian are equivalent to the embeddings. "
   ]
  },
  {
   "cell_type": "markdown",
   "id": "cheap-triple",
   "metadata": {
    "tags": []
   },
   "source": [
    "# Part 3: Link analysis\n",
    "In this exercise, we will work with PageRank, Random Walks and their relationships with graph properties. \n",
    "We will use the most generic definition\n",
    "\n",
    "$$\\mathbf{r} = \\alpha \\mathbf{Mr} + (1-\\alpha)\\mathbf{p}$$\n",
    "\n",
    "with $\\mathbf{r}$ the PageRank vector, $\\mathbf{M}$ the weighted transition matrix, and $\\mathbf{p}$ the personalization vector. \n",
    "Additionally, let $n = |V|$, where $V$ is the nodes in the graph above.\n",
    "Remember that in the case of PageRank the entries of the personalization vector are $p_i = 1/n$ for all $i$.  \n",
    "\n",
    "The graph we will be using is the same as before, but now in a directed form. Run the code below to see the results.  "
   ]
  },
  {
   "cell_type": "code",
   "execution_count": null,
   "id": "entertaining-diversity",
   "metadata": {},
   "outputs": [],
   "source": [
    "G = email.S_dir.copy()\n",
    "pos = nx.spring_layout(G)"
   ]
  },
  {
   "cell_type": "code",
   "execution_count": null,
   "id": "variable-velvet",
   "metadata": {},
   "outputs": [],
   "source": [
    "def plot_pagerank(G, r, fignum=1, colourmap='viridis'):\n",
    "    plt.figure(fignum,figsize=(15,5))\n",
    "    nodes = G.nodes()\n",
    "    \n",
    "    ec = nx.draw_networkx_edges(G, pos, alpha=0.2)\n",
    "    ranks = np.ravel(r)\n",
    "    max_element = np.max(ranks)\n",
    "    ranks = [x/max_element for x in ranks]\n",
    "    nc = nx.draw_networkx_nodes(G, pos, nodelist=nodes,node_size=100,  node_color=ranks,cmap=plt.get_cmap(colourmap))\n",
    "\n",
    "    plt.axis('off')\n",
    "    plt.show()"
   ]
  },
  {
   "cell_type": "code",
   "execution_count": null,
   "id": "auburn-drinking",
   "metadata": {},
   "outputs": [],
   "source": [
    "import random\n",
    "plot_pagerank(G, [random.uniform(0,1) for _ in range(G.number_of_nodes())])"
   ]
  },
  {
   "cell_type": "markdown",
   "id": "focused-simpson",
   "metadata": {},
   "source": [
    "## Task 3.1 PageRank\n",
    "\n",
    "### Task 3.1.1 (1 point)\n",
    "Print the degree distribution of the graph. You can use NetworkX ```G.degree```. \n",
    "\n",
    "<span style='color: green'>**\\[Motivate\\]**</span> what you notice. Is the graph dense or sparse? Is the degree distribution exponential or linear? Are there many nodes with high degree? "
   ]
  },
  {
   "cell_type": "code",
   "execution_count": null,
   "id": "medium-treatment",
   "metadata": {},
   "outputs": [],
   "source": [
    "### YOUR CODE HERE"
   ]
  },
  {
   "cell_type": "markdown",
   "id": "proud-beauty",
   "metadata": {},
   "source": [
    "*******************\n",
    "<span style=\"color:red\">**YOUR ANSWER HERE**</span>\n",
    "******************"
   ]
  },
  {
   "cell_type": "markdown",
   "id": "angry-madness",
   "metadata": {},
   "source": [
    "### Task 3.1.2 (3 points)\n",
    "Implement the PageRank algorithm. You can use the implementation from the exercises.  "
   ]
  },
  {
   "cell_type": "code",
   "execution_count": null,
   "id": "whole-survivor",
   "metadata": {},
   "outputs": [],
   "source": [
    "def pagerank(G, iterations=500, alpha=0.85):\n",
    "    ## YOUR CODE HERE\n",
    "    \n",
    "    ## YOUR CODE HERE\n",
    "    return r"
   ]
  },
  {
   "cell_type": "code",
   "execution_count": null,
   "id": "sticky-smoke",
   "metadata": {},
   "outputs": [],
   "source": [
    "r = pagerank(G)\n",
    "plot_pagerank(G, r, colourmap='autumn')"
   ]
  },
  {
   "cell_type": "markdown",
   "id": "proper-colors",
   "metadata": {},
   "source": [
    "**YOUR ANSWER**"
   ]
  },
  {
   "cell_type": "markdown",
   "id": "individual-collar",
   "metadata": {},
   "source": [
    "### Task 3.1.3 (1 point)\n",
    "\n",
    "Run PageRank on the graph with $\\alpha \\in \\{0, 0.15, 0.3, 0.45, 0.6, 0.75, 0.9, 1\\}$. If you didn't provide an implementation earlier you can use ```nx.pagerank``` and adapt the code below. \n",
    "\n",
    "<span style='color: green'>**\\[Describe\\]**</span> what happens to the PageRank values. What effect does $\\alpha$ have on the distribution of PR values? Does the PageRank in this specific graph always converge? \n",
    "\n",
    "*A note on the colourmap: We are using a colourmap whose lightness grows as the values grow. This should help you interpret the results.*"
   ]
  },
  {
   "cell_type": "code",
   "execution_count": null,
   "id": "amino-worst",
   "metadata": {},
   "outputs": [],
   "source": [
    "alphas = [0, 0.15, 0.3, 0.45, 0.6, 0.8, 0.9, 1]\n",
    "for i, alpha in enumerate(alphas):\n",
    "    r = pagerank(G, alpha=alpha)\n",
    "    plot_pagerank(G, r, fignum=i, colourmap=\"viridis\")"
   ]
  },
  {
   "cell_type": "markdown",
   "id": "monthly-personality",
   "metadata": {},
   "source": [
    "*******************\n",
    "<span style=\"color:red\">**YOUR ANSWER HERE**</span>\n",
    "******************"
   ]
  },
  {
   "cell_type": "markdown",
   "id": "increasing-company",
   "metadata": {},
   "source": [
    "## Task 3.2 Approximate PageRank\n",
    "\n",
    "### Task 3.2.1 (5 points)\n",
    "\n",
    "<span style='color: green'>**\\[Implement\\]**</span>  a different algorithm for computing Personalized PageRank. This algorithm runs a fixed number of iterations and uses the definition of random walks. \n",
    "At each step, the algorithm either selects a random neighbor with probability $\\alpha$ or returns to the starting node with probability $1-\\alpha$. Every time a node is visited a counter on the node is incremented by one. Initially, each counter is 0. The final ppr value is the values in the nodes divided by the number of iterations. \n"
   ]
  },
  {
   "cell_type": "code",
   "execution_count": null,
   "id": "external-surfing",
   "metadata": {},
   "outputs": [],
   "source": [
    "import random\n",
    "def approx_personalized_pagerank(G, node, alpha = 0.85, iterations = 1000): \n",
    "    ppr = np.zeros(G.number_of_nodes())\n",
    "    ### YOUR CODE HERE\n",
    "    \n",
    "\n",
    "    ### YOUR CODE HERE\n",
    "    return ppr"
   ]
  },
  {
   "cell_type": "markdown",
   "id": "classified-richardson",
   "metadata": {},
   "source": [
    "### Task 3.2.2 (3 points)\n",
    "\n",
    "<span style='color: green'>**\\[Implement\\]**</span> the code to run the ```approx_personalized_pagerank``` with default $\\alpha$ and iterations $\\{10, n, 2n, 4n, 100n\\}$ where $n$ is the number of nodes in the graph and starting node the node with the highest PageRank computed in Task 3.1.2. Print the top-20 nodes and their respective real (with ```nx.pagerank``` or your pagerank implemented in Task 3.12) and the approximate PPR.\n",
    "\n",
    "<span style='color: green'>**\\[Motivate\\]**</span> what do you notice as the number of iterations increase. Why are the values and the top-20 nodes ranked by PPR changing so much? "
   ]
  },
  {
   "cell_type": "code",
   "execution_count": null,
   "id": "premium-queen",
   "metadata": {},
   "outputs": [],
   "source": [
    "### YOUR CODE HERE"
   ]
  },
  {
   "cell_type": "markdown",
   "id": "sharp-degree",
   "metadata": {},
   "source": [
    "*******************\n",
    "<span style=\"color:red\">**YOUR ANSWER HERE**</span>\n",
    "******************"
   ]
  },
  {
   "cell_type": "markdown",
   "id": "accessory-constraint",
   "metadata": {},
   "source": [
    "### Task 3.2.3 (2 points)\n",
    "\n",
    "<span style='color: green'>**\\[Implement\\]**</span> and compare the 5 nodes with the highest PPR obtained from ```nx.pagerank(G, alpha=0.85, personalization={node_highest_pagerank: 1})``` and the one obtained by the approximation. \n",
    "\n",
    "<span style='color: green'>**\\[Describe\\]**</span> the differences. Does the iteration affect the results? Is there a relationship between the number of iterations and the results? Is there a relationship between the approximated value of PageRank and the real value? Do you notice anything as the number of iteration increases? "
   ]
  },
  {
   "cell_type": "code",
   "execution_count": null,
   "id": "binary-intranet",
   "metadata": {},
   "outputs": [],
   "source": [
    "### YOUR CODE HERE"
   ]
  },
  {
   "cell_type": "markdown",
   "id": "beautiful-march",
   "metadata": {},
   "source": [
    "*******************\n",
    "<span style=\"color:red\">**YOUR ANSWER HERE**</span>\n",
    "*****************"
   ]
  },
  {
   "cell_type": "markdown",
   "id": "generic-hormone",
   "metadata": {},
   "source": [
    "### Task 3.2.4 (2 points)\n",
    "\n",
    "Run again the same experiment in Task 3.2.3 but this time use $\\alpha = 0.1$. \n",
    "\n",
    "<span style='color: green'>**\\[Motivate\\]**</span> Motivate whether and why you need more or less iterations to predict the 5 nodes with the highest PPR. "
   ]
  },
  {
   "cell_type": "code",
   "execution_count": null,
   "id": "exotic-covering",
   "metadata": {},
   "outputs": [],
   "source": [
    "### YOUR CODE HERE"
   ]
  },
  {
   "cell_type": "markdown",
   "id": "objective-benjamin",
   "metadata": {},
   "source": [
    "*******************\n",
    "<span style=\"color:red\">**YOUR ANSWER HERE**</span>\n",
    "******************"
   ]
  },
  {
   "cell_type": "markdown",
   "id": "adult-integral",
   "metadata": {},
   "source": [
    "## Task 3.3 Spam and link farms\n",
    "We will now study the effect of spam in the network and construct a link farm. In this part, if you want to modify the graph, use a copy of the original graph every time you run your code, so that you do not keep adding modifications."
   ]
  },
  {
   "cell_type": "code",
   "execution_count": null,
   "id": "satisfied-validation",
   "metadata": {},
   "outputs": [],
   "source": [
    "G = email.S_dir.copy()"
   ]
  },
  {
   "cell_type": "markdown",
   "id": "falling-windsor",
   "metadata": {},
   "source": [
    "As you construct a link farm, you may want to use the following to plot your results."
   ]
  },
  {
   "cell_type": "code",
   "execution_count": null,
   "id": "monetary-annotation",
   "metadata": {},
   "outputs": [],
   "source": [
    "plot_pagerank(YOUR GRAPH MODIFIED WITH A LINK FARM, SOME TRUSTRANK OR PAGERANK, pos=nx.kamada_kawai_layout(G))"
   ]
  },
  {
   "cell_type": "markdown",
   "id": "secondary-century",
   "metadata": {},
   "source": [
    "### Task 3.3.1 (3 points)\n",
    "Based on the analysis in the slides, construct a spam farm $s$ on the graph $G$ with $T$ fake nodes. Assume that $s$ manages to get links from node 1. With $\\alpha=0.85$, \n",
    "\n",
    "<span style='color: green'>**\\[Describe\\]**</span> how many pages $T$ do you need to add in order to get $s$ being assigned the highest PageRank. \n",
    "Provide sufficient theoretical justification. To help your analysis you can initially provide a piece of code that finds $T$ such that the PageRank $\\mathbf{r}_s$ is maximizied."
   ]
  },
  {
   "cell_type": "code",
   "execution_count": null,
   "id": "minute-trailer",
   "metadata": {},
   "outputs": [],
   "source": [
    "### YOUR CODE HERE"
   ]
  },
  {
   "cell_type": "markdown",
   "id": "celtic-distributor",
   "metadata": {},
   "source": [
    "*******************\n",
    "<span style=\"color:red\">**YOUR ANSWER HERE**</span>\n",
    "******************"
   ]
  },
  {
   "cell_type": "markdown",
   "id": "respective-profile",
   "metadata": {},
   "source": [
    "### Task 3.3.2 (4 points)\n",
    "In the above scenario, assume that $T = \\frac{1}{5}$ of the nodes in the original graph. As above you can, but you are not obliged to, provide a piece of code to help your analysis. \n",
    "\n",
    "<span style='color: green'>**\\[Motivate\\]**</span> what value of $\\alpha$ will maximize the PageRank $\\mathbf{r}_s$ of the link farm $s$. Provide sufficient justification for your choice. "
   ]
  },
  {
   "cell_type": "code",
   "execution_count": null,
   "id": "focused-spelling",
   "metadata": {},
   "outputs": [],
   "source": [
    "## YOUR CODE HERE"
   ]
  },
  {
   "cell_type": "markdown",
   "id": "copyrighted-jones",
   "metadata": {},
   "source": [
    "*******************\n",
    "<span style=\"color:red\">**YOUR ANSWER HERE**</span>\n",
    "******************"
   ]
  },
  {
   "cell_type": "markdown",
   "id": "mechanical-horizon",
   "metadata": {},
   "source": [
    "### Task 3.3.3 (4 points)\n",
    "\n",
    "Now we fix both $\\alpha = 0.85$ and $T = \\frac{1}{5}n$. \n",
    "\n",
    "<span style='color: green'>**\\[Implement\\]**</span>  ```trusted_pagerank``` the method for spam mass estimation."
   ]
  },
  {
   "cell_type": "code",
   "execution_count": null,
   "id": "arctic-constitutional",
   "metadata": {},
   "outputs": [],
   "source": [
    "def trusted_pagerank(G, trusted_indices, iterations=500, alpha=0.85):\n",
    "    r = None\n",
    "    \n",
    "    ### YOUR CODE HERE\n",
    "\n",
    "    ### YOUR CODE HERE\n",
    "    return r"
   ]
  },
  {
   "cell_type": "markdown",
   "id": "corrected-hartford",
   "metadata": {},
   "source": [
    "### Task 3.3.4 (3 points)\n",
    "\n",
    "<span style='color: green'>**\\[Discuss\\]**</span> whether we are able to detect the node $s$, if the trusted set of nodes is a random sample $10\\%$ of the nodes in the original graph. \n",
    "If not, what could be a viable solution? Which nodes would you rather choose as trusted?\n",
    "\n",
    "You are not obliged to, but you can write some helper code to reach the answer faster.  \n",
    "\n",
    "_Hint_: Remember the spam mass formula in the Link Analysis lecture"
   ]
  },
  {
   "cell_type": "code",
   "execution_count": null,
   "id": "future-nothing",
   "metadata": {},
   "outputs": [],
   "source": [
    "### YOUR CODE HERE"
   ]
  },
  {
   "cell_type": "markdown",
   "id": "noted-violence",
   "metadata": {},
   "source": [
    "*******************\n",
    "<span style=\"color:red\">**YOUR ANSWER HERE**</span>\n",
    "******************"
   ]
  },
  {
   "cell_type": "markdown",
   "id": "instant-magnitude",
   "metadata": {},
   "source": [
    "# Part 4: Graph embeddings\n",
    "In this final part, we will try a different approach for clustering the data from above. \n",
    "The strategy is going to be the following:\n",
    "\n",
    "1. Use VERSE [[1]](https://arxiv.org/pdf/1803.04742.pdf) to produce embeddings of the nodes in the graph.\n",
    "2. Use K-Means to cluster the embeddings. Measure and report NMI for the clustering. \n",
    "\n",
    "[[1](https://arxiv.org/pdf/1803.04742.pdf)] Tsitsulin, A., Mottin, D., Karras, P. and Müller, E., 2018, April. Verse: Versatile graph embeddings from similarity measures. In Proceedings of the 2018 World Wide Web Conference (pp. 539-548)."
   ]
  },
  {
   "cell_type": "code",
   "execution_count": null,
   "id": "introductory-missile",
   "metadata": {},
   "outputs": [],
   "source": [
    "G = email.S_dir.copy()"
   ]
  },
  {
   "cell_type": "markdown",
   "id": "dense-spare",
   "metadata": {},
   "source": [
    "## Task 4.1.1 (6 points)\n",
    "\n",
    "<span style='color: green'>**\\[Implement\\]**</span> the methods below to compute sampling version of VERSE. _Hint:_ it might be a help to look in the original article \\[1\\] above."
   ]
  },
  {
   "cell_type": "code",
   "execution_count": null,
   "id": "emotional-empty",
   "metadata": {},
   "outputs": [],
   "source": [
    "def sigmoid(x):\n",
    "    ''' Return the sigmoid function of x \n",
    "        x: the input vector\n",
    "    '''\n",
    "    ### YOUR CODE HERE\n",
    "\n",
    "    ### YOUR CODE HERE\n",
    "    return x\n",
    "\n",
    "def pagerank_matrix(G, alpha = 0.85) :     \n",
    "    ''' Return the Personalized PageRank matrix of a graph\n",
    "\n",
    "        Args:\n",
    "            G: the input graph\n",
    "            alpha: the dumping factor of  PageRank\n",
    "\n",
    "        :return The nxn PageRank matrix P\n",
    "    '''\n",
    "    ### YOUR CODE HERE\n",
    "\n",
    "    ### YOUR CODE HERE\n",
    "    return P\n",
    "    \n",
    "\n",
    "def update(u, v, Z, C, step_size) :\n",
    "    '''Update the matrix Z using row-wise gradients of the loss function\n",
    "\n",
    "       Args:\n",
    "            u : the first node\n",
    "            v : the second node\n",
    "            Z : the embedding matrix\n",
    "            C : the classification variable used in Noise Contrastive estimation indicating whether the sample is positive or negative\n",
    "            step_size: step size for gradient descent\n",
    "\n",
    "\n",
    "       :return nothing, just update rows Z[v,:] and and Z[u,:]\n",
    "    '''\n",
    "    ### YOUR CODE HERE\n",
    "\n",
    "    ### YOUR CODE HERE\n",
    "    \n",
    "    \n",
    "def verse(G, S, d, k = 3, step_size = 0.0025, steps = 10000): \n",
    "    ''' Return the sampled version of VERSE\n",
    "\n",
    "        Args:\n",
    "            G: the input Graph\n",
    "            S: the PageRank similarity matrix\n",
    "            d: dimension of the embedding space\n",
    "            k: number of negative samples\n",
    "            step_size: step size for gradient descent\n",
    "            steps: number of iterations\n",
    "\n",
    "        :return the embedding matrix nxd\n",
    "    '''\n",
    "    n = G.number_of_nodes()\n",
    "    Z = 1/d*np.random.rand(n,d)\n",
    "\n",
    "    ### YOUR CODE HERE\n",
    "\n",
    "    ### YOUR CODE HERE\n",
    "    return Z"
   ]
  },
  {
   "cell_type": "code",
   "execution_count": null,
   "id": "anonymous-camping",
   "metadata": {},
   "outputs": [],
   "source": [
    "# This code runs the `verse` algorithm above on G and stores the embeddings to 'verse.npy'\n",
    "P   = pagerank_matrix(G)\n",
    "emb = verse(G, P, 128, step_size=0.0025, steps=10_000)\n",
    "np.save('verse.npy', emb)"
   ]
  },
  {
   "cell_type": "markdown",
   "id": "agreed-sleeve",
   "metadata": {},
   "source": [
    "### Task 4.1.2 (4 points)\n",
    "\n",
    "<span style='color: green'>**\\[Implement\\]**</span> a small piece of code that runs K-means on the embeddings with $k \\in [2,7]$ to evaluate the performance compared to Spectral clustering using the NMI as measure. You can use ```sklearn.metrics.normalized_mutual_info_score``` for the NMI and ```sklearn.cluster.KMeans``` for kmeans. In both cases, you can use your own implementation from Handin 1 or the exercises, but it will not give you extra points.  \n",
    "\n",
    "<span style='color: green'>**\\[Describe\\]**</span> which of the method performs the best and whether the results show similarities between the two methods"
   ]
  },
  {
   "cell_type": "code",
   "execution_count": null,
   "id": "acquired-sailing",
   "metadata": {},
   "outputs": [],
   "source": [
    "### YOUR CODE HERE\n",
    "\n",
    "\n",
    "### YOUR CODE HERE"
   ]
  },
  {
   "cell_type": "markdown",
   "id": "separated-arcade",
   "metadata": {},
   "source": [
    "*******************\n",
    "<span style=\"color:red\">**YOUR ANSWER HERE**</span>\n",
    "******************"
   ]
  },
  {
   "cell_type": "markdown",
   "id": "documentary-bryan",
   "metadata": {},
   "source": [
    "## Task 4.2 (6 points)\n",
    "\n",
    "**This is a hard exercise. Do it for fun or only if you are done with easier questions.**\n",
    "\n",
    "<span style='color: green'>**\\[Implement\\]**</span> a new GCN that optimizes for modularity. The loss function takes in input a matrix $C \\in \\mathbb{R}^{n\\times k}$ of embeddings for each of the nodes. \n",
    "$C$ represents the community assignment matrix, i.e. each entry $C_{ij}$ contains the probability that node $i$ belong to community $j$. \n",
    "\n",
    "The loss function is the following\n",
    "$$\n",
    "loss = - Tr(C^\\top B C) + l\\|C\\|_2\n",
    "$$ \n",
    "where $B$ is the modularity matrix that you will also implement, and $l$ is a regularization factor controlling the impact of the $L_2$ regularizer. \n",
    "We will implement a two-layer GCN similar to the one implemented in the exercises, but the last layer's activation fucntion is a Softmax. "
   ]
  },
  {
   "cell_type": "code",
   "execution_count": null,
   "id": "sacred-aruba",
   "metadata": {},
   "outputs": [],
   "source": [
    "import pykeen\n",
    "\n",
    "# Adjacency matrix\n",
    "G     = email.S_undir.copy()\n",
    "A     = np.array(nx.adj_matrix(G, weight=None).todense())\n",
    "I     = np.eye(A.shape[0])\n",
    "A     = A + I # Add self loop\n",
    "\n",
    "# Degree matrix\n",
    "### YOUR CODE HERE\n",
    "\n",
    "# Normalized Laplacian\n",
    "    \n",
    "# Create input vectors\n",
    "\n",
    "### TODO your code here\n",
    "\n",
    "X = torch.tensor(X, dtype=torch.float, requires_grad=True) # Indicate to pytorch that we need gradients for this variable\n",
    "As = torch.tensor(A, dtype=torch.float)\n",
    "L = torch.tensor(L, dtype=torch.float)  # We don't need to learn this so no grad required."
   ]
  },
  {
   "cell_type": "code",
   "execution_count": null,
   "id": "blocked-brisbane",
   "metadata": {},
   "outputs": [],
   "source": [
    "# Define a GCN\n",
    "class GCNLayer(nn.Module):\n",
    "    def __init__(self, L, input_features, output_features, activation=F.relu):\n",
    "        \"\"\"\n",
    "            Inputs:\n",
    "                L:               The \"Laplacian\" of the graph, as defined above\n",
    "                input_features:  The size of the input embedding\n",
    "                output_features: The size of the output embedding \n",
    "                activation:      Activation function sigma\n",
    "        \"\"\"\n",
    "        super().__init__()\n",
    "        \n",
    "        ### TODO Your code here\n",
    "\n",
    "        \n",
    "        ### TODO Your code here\n",
    "     \n",
    "    def forward(self, X):\n",
    "        ### TODO Your code here\n",
    "\n",
    "        \n",
    "        ### TODO Your code here\n",
    "        return X"
   ]
  },
  {
   "cell_type": "markdown",
   "id": "mobile-tunnel",
   "metadata": {},
   "source": [
    "Define the modularity matrix and the modularity loss"
   ]
  },
  {
   "cell_type": "code",
   "execution_count": null,
   "id": "seventh-pressure",
   "metadata": {},
   "outputs": [],
   "source": [
    "def modularity_matrix(A):\n",
    "    B = None\n",
    "    ### YOUR CODE HERE\n",
    "\n",
    "    ### YOUR CODE HERE\n",
    "    return torch.tensor(B, dtype=torch.float)\n",
    "\n",
    "def modularity_loss(C, B, l = 0.01): \n",
    "    ''' Return the modularity loss\n",
    "\n",
    "        Args:\n",
    "            C: the node-community affinity matrix\n",
    "            B: the modularity matrix\n",
    "            l: the regularization factor\n",
    "            \n",
    "        :return the modularity loss as described at the beginning of the exercise\n",
    "    '''\n",
    "    loss = 0\n",
    "    ### YOUR CODE HERE\n",
    "\n",
    "    \n",
    "    ### YOUR CODE HERE\n",
    "    return loss"
   ]
  },
  {
   "cell_type": "markdown",
   "id": "offshore-worth",
   "metadata": {},
   "source": [
    "Compute labels from communities"
   ]
  },
  {
   "cell_type": "code",
   "execution_count": null,
   "id": "electric-multimedia",
   "metadata": {},
   "outputs": [],
   "source": [
    "### Compute labels from communities\n",
    "labels = None\n",
    "### YOUR CODE HERE\n",
    "\n",
    "\n",
    "### YOUR CODE HERE\n"
   ]
  },
  {
   "cell_type": "markdown",
   "id": "figured-backing",
   "metadata": {},
   "source": [
    "Create the model"
   ]
  },
  {
   "cell_type": "code",
   "execution_count": null,
   "id": "acting-western",
   "metadata": {},
   "outputs": [],
   "source": [
    "from sklearn.preprocessing import LabelEncoder\n",
    "import torch.nn.functional as F\n",
    "\n",
    "device = torch.device('cuda' if torch.cuda.is_available() else 'cpu')\n",
    "\n",
    "### Encode the labels with one-hot encoding\n",
    "def to_categorical(y):\n",
    "    \"\"\" 1-hot encodes a tensor \"\"\"\n",
    "    num_classes = np.unique(y).size\n",
    "    return np.eye(num_classes, dtype='uint8')[y]\n",
    "\n",
    "def encode_label(labels):\n",
    "    label_encoder = LabelEncoder()\n",
    "    labels = label_encoder.fit_transform(labels)\n",
    "    labels = to_categorical(labels)\n",
    "    return labels, label_encoder.classes_\n",
    "\n",
    "y, classes = encode_label(labels)\n",
    "y = torch.tensor(y)\n",
    "\n",
    "# Define convolutional network\n",
    "in_features, out_features = X.shape[1], classes.size # output features as many as the number of classes\n",
    "hidden_dim = 16\n",
    "\n",
    "# Stack two GCN layers as our model\n",
    "# nn.Sequential is an implicit nn.Module, which uses the layers in given order as the forward pass\n",
    "gcn = nn.Sequential(\n",
    "    GCNLayer(L, in_features, hidden_dim),\n",
    "    GCNLayer(L, hidden_dim, out_features, None),\n",
    "    nn.Softmax(dim=1)\n",
    ")\n",
    "gcn.to(device)"
   ]
  },
  {
   "cell_type": "markdown",
   "id": "julian-treat",
   "metadata": {},
   "source": [
    "Train the unsupervised model once "
   ]
  },
  {
   "cell_type": "code",
   "execution_count": null,
   "id": "pacific-korea",
   "metadata": {},
   "outputs": [],
   "source": [
    "l = 100\n",
    "epochs = 2000\n",
    "\n",
    "def train_model(model, optimizer, X, B, epochs=100, print_every=10, batch_size = 2):\n",
    "    for epoch in range(epochs+1):\n",
    "        y_pred = model(X)\n",
    "        loss = modularity_loss(y_pred, B, l=l)\n",
    "\n",
    "        optimizer.zero_grad()\n",
    "        loss.backward()\n",
    "        optimizer.step()\n",
    "\n",
    "        if epoch % print_every == 0:\n",
    "            print(f'Epoch {epoch:2d}, loss={loss.item():.5f}')\n",
    "\n",
    "B = modularity_matrix(A)\n",
    "optimizer = torch.optim.Adam(gcn.parameters(), lr=0.01)\n",
    "train_model(gcn, optimizer, X, B, epochs=epochs, print_every=100)"
   ]
  },
  {
   "cell_type": "markdown",
   "id": "optimum-guidance",
   "metadata": {},
   "source": [
    "Evaluate your model using NMI. Since the initialization is random train the model 10 times and take the average NMI. Assign each node to the community with the highest probability. \n",
    "You should obtain an Average $\\text{NMI}\\approx0.5$.\n",
    "\n",
    "Plot the last graph with the nodes colored by commnitieis communities using ```plot_graph``` below. \n",
    "\n",
    "**Note**: You have to create the model 5 times otherwise you are keeping training the same model's parameters! "
   ]
  },
  {
   "cell_type": "code",
   "execution_count": null,
   "id": "swiss-introduction",
   "metadata": {},
   "outputs": [],
   "source": [
    "from sklearn.metrics.cluster import normalized_mutual_info_score\n",
    "\n",
    "def plot_graph(G, y_pred): \n",
    "    plt.figure(1,figsize=(15,5))\n",
    "    pos = nx.spring_layout(G)\n",
    "    ec = nx.draw_networkx_edges(G, pos, alpha=0.2)\n",
    "    nc = nx.draw_networkx_nodes(G, pos, nodelist=G.nodes(), node_color=y_pred, node_size=100, cmap=plt.cm.jet)\n",
    "    plt.axis('off')\n",
    "    plt.show()\n",
    "\n",
    "\n",
    "    \n",
    "### YOUR CODE HERE \n",
    "\n",
    "\n",
    "### YOUR CODE HERE"
   ]
  }
 ],
 "metadata": {
  "kernelspec": {
   "display_name": "Python 3",
   "language": "python",
   "name": "python3"
  },
  "language_info": {
   "codemirror_mode": {
    "name": "ipython",
    "version": 3
   },
   "file_extension": ".py",
   "mimetype": "text/x-python",
   "name": "python",
   "nbconvert_exporter": "python",
   "pygments_lexer": "ipython3",
   "version": "3.8.5"
  }
 },
 "nbformat": 4,
 "nbformat_minor": 5
}
